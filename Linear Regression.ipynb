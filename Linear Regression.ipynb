{
 "cells": [
  {
   "cell_type": "code",
   "execution_count": 1,
   "id": "5f22e921-e0a8-4b0c-9343-10cce58a3e20",
   "metadata": {},
   "outputs": [
    {
     "name": "stdout",
     "output_type": "stream",
     "text": [
      "【日期時間】2023/04/26 17:39:23\n",
      "【工作目錄】C:\\Users\\88690\\python\\Machine Learning\n",
      "【主機名稱】yiyi (192.168.68.104)\n",
      "【Python】3.9.12\n",
      "【scipy】1.7.3\n"
     ]
    }
   ],
   "source": [
    "# -*- coding: utf-8 -*-\n",
    "from platform import python_version\n",
    "import os, time, glob, socket, pickle, joblib\n",
    "import numpy as np\n",
    "import pandas as pd\n",
    "import scipy\n",
    "from scipy.stats import linregress\n",
    "\n",
    "print(\"【日期時間】{}\".format(time.strftime(\"%Y/%m/%d %H:%M:%S\")))\n",
    "print(\"【工作目錄】{}\".format(os.getcwd()))\n",
    "print(\"【主機名稱】{} ({})\".format(socket.gethostname(),socket.gethostbyname(socket.gethostname())))\n",
    "print(\"【Python】{}\".format(python_version()))\n",
    "print(\"【scipy】{}\".format(scipy.__version__))"
   ]
  },
  {
   "cell_type": "markdown",
   "id": "7e32c496-70bc-4c12-94d6-1c41373e525a",
   "metadata": {},
   "source": [
    "### <font color=#0000FF>Linear Regression</font>\n",
    "- OLS(Ordinary Least Squares)最小平方\n",
    "    - loss function : $minimize\\{SSE = \\sum_{i=1}^n(y_i-\\hat y_i)^2\\}$\n",
    "- model function\n",
    "    - $y = \\beta_0 + \\beta_1 x_1 + \\epsilon$\n",
    "        - $y$ : 反應變數(又稱為應變項)\n",
    "        - $x_i$ : 預測變數(又稱為自變項)\n",
    "        - $\\beta_0$ : 截距項(intercept)\n",
    "        - $\\beta_1$ : 斜率(slope)、權重(模型欲估計的參數)\n",
    "        - $\\hat y = \\hat \\beta_0 + \\hat \\beta_1 x_1$        \n",
    "            - $\\hat y、 \\hat \\beta_0、 \\hat \\beta_1$ : 被算(預測)出來的估計值(頭頂上多一頂帽子^)\n",
    "    - $y = \\beta_0 + \\beta_1*x_1 + \\beta_2*x_2 + ... + \\epsilon$"
   ]
  },
  {
   "cell_type": "code",
   "execution_count": 6,
   "id": "b517de85-abff-4c76-ae3c-196277aa5f37",
   "metadata": {},
   "outputs": [],
   "source": [
    "fname1 = r\"C:\\Data\\PyMLData\\cars.csv\"\n",
    "fname2 = r\"C:\\Data\\PyMLData\\mtcars.csv\"\n",
    "\n",
    "cars = pd.read_csv(fname1, sep=\",\", engine=\"python\", encoding=\"cp950\")\n",
    "mtcars = pd.read_csv(fname2, sep=\",\", engine=\"python\", encoding=\"cp950\")"
   ]
  },
  {
   "cell_type": "markdown",
   "id": "2ff9d010-146e-4f5c-96bd-6895d0fe370e",
   "metadata": {},
   "source": [
    "【cars資料集】\n",
    "- speed : numeric Speed (mph) 速度（mph, miles per hour 英里）\n",
    "- dist : numeric Stopping distance (ft) 停止距離（ft, 英尺）"
   ]
  },
  {
   "cell_type": "markdown",
   "id": "dcd52f97-c399-4bf1-b4fb-fbd8250e6032",
   "metadata": {},
   "source": [
    "【mtcars資料集】\n",
    "- mpg : Miles/(US) gallon 英里/（美國）加侖\n",
    "- cyl : Number of cylinders 氣缸數\n",
    "- disp : Displacement (cu.in.) 位移（cu.in.）\n",
    "- hp : Gross horsepower 總馬力 \n",
    "- drat : Rear axle ratio 後橋比\n",
    "- wt : Weight (1000 lbs) 重量（1000 lbs）\n",
    "- qsec : 1/4 mile time 1/4英里時間\n",
    "- vs : Engine (0 = V-shaped, 1 = straight) 引擎 (0 = V形，1 =直)\n",
    "- am : Transmission (0 = automatic, 1 = manual) 傳動 (0 =自動，1 =手動)\n",
    "- gear : Number of forward gears 齒輪前進檔數\n",
    "- carb : Number of carburetors 碳氫化合物數量"
   ]
  },
  {
   "cell_type": "code",
   "execution_count": 23,
   "id": "204a7329-8cf5-469d-9852-0e85d0989f67",
   "metadata": {},
   "outputs": [
    {
     "data": {
      "text/plain": [
       "pandas.core.indexes.base.Index"
      ]
     },
     "execution_count": 23,
     "metadata": {},
     "output_type": "execute_result"
    }
   ],
   "source": [
    "type(cars.)"
   ]
  },
  {
   "cell_type": "code",
   "execution_count": 33,
   "id": "81b9ebfb-5038-4faf-8eab-55316e8fe82f",
   "metadata": {},
   "outputs": [],
   "source": [
    "def summary_data(dataset, dataname):\n",
    "    print(f\"data name:{dataname}\")\n",
    "    print(\"records:{} columns:{}\".format(dataset.shape[0], dataset.shape[1]))\n",
    "    print(\"column name:{}\".format(list(dataset.columns)))\n",
    "    print(\"check na value: \\n{}\\n\".format(dataset.isna().sum()))"
   ]
  },
  {
   "cell_type": "code",
   "execution_count": 34,
   "id": "1d9484c8-eb94-4562-b2a7-1fcdcae8ce51",
   "metadata": {},
   "outputs": [
    {
     "name": "stdout",
     "output_type": "stream",
     "text": [
      "data name:cars\n",
      "records:50 columns:2\n",
      "column name:['speed', 'dist']\n",
      "check na value: \n",
      "speed    0\n",
      "dist     0\n",
      "dtype: int64\n",
      "\n",
      "data name:mtcars\n",
      "records:32 columns:11\n",
      "column name:['mpg', 'cyl', 'disp', 'hp', 'drat', 'wt', 'qsec', 'vs', 'am', 'gear', 'carb']\n",
      "check na value: \n",
      "mpg     0\n",
      "cyl     0\n",
      "disp    0\n",
      "hp      0\n",
      "drat    0\n",
      "wt      0\n",
      "qsec    0\n",
      "vs      0\n",
      "am      0\n",
      "gear    0\n",
      "carb    0\n",
      "dtype: int64\n",
      "\n"
     ]
    }
   ],
   "source": [
    "summary_data(cars, \"cars\")\n",
    "summary_data(mtcars, \"mtcars\")"
   ]
  }
 ],
 "metadata": {
  "kernelspec": {
   "display_name": "Python 3 (ipykernel)",
   "language": "python",
   "name": "python3"
  },
  "language_info": {
   "codemirror_mode": {
    "name": "ipython",
    "version": 3
   },
   "file_extension": ".py",
   "mimetype": "text/x-python",
   "name": "python",
   "nbconvert_exporter": "python",
   "pygments_lexer": "ipython3",
   "version": "3.9.12"
  }
 },
 "nbformat": 4,
 "nbformat_minor": 5
}
